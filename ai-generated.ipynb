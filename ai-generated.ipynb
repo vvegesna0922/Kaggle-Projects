{
 "cells": [
  {
   "cell_type": "markdown",
   "id": "9cac3bc3",
   "metadata": {},
   "source": [
    "Distinguishing AI-Generated from Human-Written Text Using NLP"
   ]
  },
  {
   "cell_type": "code",
   "execution_count": 142,
   "id": "de15d829",
   "metadata": {},
   "outputs": [],
   "source": [
    "import numpy as numpy\n",
    "import pandas as pd \n",
    "import matplotlib.pyplot as plt \n",
    "import seaborn as sns\n",
    "import nltk \n",
    "import re\n",
    "from wordcloud import WordCloud\n",
    "from nltk import tokenize\n"
   ]
  },
  {
   "cell_type": "code",
   "execution_count": 143,
   "id": "a311d1bb",
   "metadata": {},
   "outputs": [],
   "source": [
    "import kagglehub"
   ]
  },
  {
   "cell_type": "code",
   "execution_count": 145,
   "id": "60fc188f",
   "metadata": {},
   "outputs": [],
   "source": [
    "df=pd.read_csv(\"AI Generated Essays Dataset.csv\")\n"
   ]
  },
  {
   "cell_type": "markdown",
   "id": "668e1724",
   "metadata": {},
   "source": [
    "Understanding the data"
   ]
  },
  {
   "cell_type": "code",
   "execution_count": 146,
   "id": "ef2f0c10",
   "metadata": {},
   "outputs": [
    {
     "name": "stdout",
     "output_type": "stream",
     "text": [
      "<class 'pandas.core.frame.DataFrame'>\n",
      "RangeIndex: 1460 entries, 0 to 1459\n",
      "Data columns (total 2 columns):\n",
      " #   Column     Non-Null Count  Dtype \n",
      "---  ------     --------------  ----- \n",
      " 0   text       1460 non-null   object\n",
      " 1   generated  1460 non-null   int64 \n",
      "dtypes: int64(1), object(1)\n",
      "memory usage: 22.9+ KB\n"
     ]
    }
   ],
   "source": [
    "df.info()"
   ]
  },
  {
   "cell_type": "code",
   "execution_count": 147,
   "id": "62b08070",
   "metadata": {},
   "outputs": [
    {
     "data": {
      "text/html": [
       "<div>\n",
       "<style scoped>\n",
       "    .dataframe tbody tr th:only-of-type {\n",
       "        vertical-align: middle;\n",
       "    }\n",
       "\n",
       "    .dataframe tbody tr th {\n",
       "        vertical-align: top;\n",
       "    }\n",
       "\n",
       "    .dataframe thead th {\n",
       "        text-align: right;\n",
       "    }\n",
       "</style>\n",
       "<table border=\"1\" class=\"dataframe\">\n",
       "  <thead>\n",
       "    <tr style=\"text-align: right;\">\n",
       "      <th></th>\n",
       "      <th>text</th>\n",
       "      <th>generated</th>\n",
       "    </tr>\n",
       "  </thead>\n",
       "  <tbody>\n",
       "    <tr>\n",
       "      <th>0</th>\n",
       "      <td>Machine learning, a subset of artificial intel...</td>\n",
       "      <td>1</td>\n",
       "    </tr>\n",
       "    <tr>\n",
       "      <th>1</th>\n",
       "      <td>A decision tree, a prominent machine learning ...</td>\n",
       "      <td>1</td>\n",
       "    </tr>\n",
       "    <tr>\n",
       "      <th>2</th>\n",
       "      <td>Education, a cornerstone of societal progress,...</td>\n",
       "      <td>1</td>\n",
       "    </tr>\n",
       "    <tr>\n",
       "      <th>3</th>\n",
       "      <td>Computers, the backbone of modern technology, ...</td>\n",
       "      <td>1</td>\n",
       "    </tr>\n",
       "    <tr>\n",
       "      <th>4</th>\n",
       "      <td>Chess, a timeless game of strategy and intelle...</td>\n",
       "      <td>1</td>\n",
       "    </tr>\n",
       "  </tbody>\n",
       "</table>\n",
       "</div>"
      ],
      "text/plain": [
       "                                                text  generated\n",
       "0  Machine learning, a subset of artificial intel...          1\n",
       "1  A decision tree, a prominent machine learning ...          1\n",
       "2  Education, a cornerstone of societal progress,...          1\n",
       "3  Computers, the backbone of modern technology, ...          1\n",
       "4  Chess, a timeless game of strategy and intelle...          1"
      ]
     },
     "execution_count": 147,
     "metadata": {},
     "output_type": "execute_result"
    }
   ],
   "source": [
    "df.head()"
   ]
  },
  {
   "cell_type": "code",
   "execution_count": 148,
   "id": "d3d345ce",
   "metadata": {},
   "outputs": [
    {
     "data": {
      "text/plain": [
       "generated\n",
       "0    1375\n",
       "1      85\n",
       "Name: count, dtype: int64"
      ]
     },
     "execution_count": 148,
     "metadata": {},
     "output_type": "execute_result"
    }
   ],
   "source": [
    "exploratory_df = df.copy()\n",
    "exploratory_df[\"generated\"].value_counts()"
   ]
  },
  {
   "cell_type": "markdown",
   "id": "bcd4aeff",
   "metadata": {},
   "source": [
    "EDA"
   ]
  },
  {
   "cell_type": "markdown",
   "id": "0ae5cc64",
   "metadata": {},
   "source": [
    "To understand how the data is split, I created a pie chart to visualize the difference."
   ]
  },
  {
   "cell_type": "code",
   "execution_count": 149,
   "id": "26693840",
   "metadata": {},
   "outputs": [
    {
     "data": {
      "image/png": "[encoded data removed]",
      "text/plain": [
       "<Figure size 640x480 with 1 Axes>"
      ]
     },
     "metadata": {},
     "output_type": "display_data"
    }
   ],
   "source": [
    "def generated(generated):\n",
    "    if generated==1: \n",
    "        return \"Generated\"\n",
    "    else:\n",
    "        return \"Human Text\"\n",
    "exploratory_df['generated'] = exploratory_df['generated'].apply(generated)\n",
    "plt.pie(exploratory_df['generated'].value_counts(), labels=exploratory_df['generated'].unique().tolist(), autopct='%1.1f%%')\n",
    "plt.show()"
   ]
  },
  {
   "cell_type": "markdown",
   "id": "c56117eb",
   "metadata": {},
   "source": [
    "Understanding the different type of text that exists in the data set:"
   ]
  },
  {
   "cell_type": "code",
   "execution_count": 150,
   "id": "844b0d2e",
   "metadata": {},
   "outputs": [
    {
     "data": {
      "text/html": [
       "<div>\n",
       "<style scoped>\n",
       "    .dataframe tbody tr th:only-of-type {\n",
       "        vertical-align: middle;\n",
       "    }\n",
       "\n",
       "    .dataframe tbody tr th {\n",
       "        vertical-align: top;\n",
       "    }\n",
       "\n",
       "    .dataframe thead th {\n",
       "        text-align: right;\n",
       "    }\n",
       "</style>\n",
       "<table border=\"1\" class=\"dataframe\">\n",
       "  <thead>\n",
       "    <tr style=\"text-align: right;\">\n",
       "      <th></th>\n",
       "      <th>text</th>\n",
       "      <th>generated</th>\n",
       "      <th>word_count</th>\n",
       "    </tr>\n",
       "  </thead>\n",
       "  <tbody>\n",
       "    <tr>\n",
       "      <th>0</th>\n",
       "      <td>Machine learning, a subset of artificial intel...</td>\n",
       "      <td>Generated</td>\n",
       "      <td>96</td>\n",
       "    </tr>\n",
       "    <tr>\n",
       "      <th>1</th>\n",
       "      <td>A decision tree, a prominent machine learning ...</td>\n",
       "      <td>Generated</td>\n",
       "      <td>103</td>\n",
       "    </tr>\n",
       "    <tr>\n",
       "      <th>2</th>\n",
       "      <td>Education, a cornerstone of societal progress,...</td>\n",
       "      <td>Generated</td>\n",
       "      <td>93</td>\n",
       "    </tr>\n",
       "    <tr>\n",
       "      <th>3</th>\n",
       "      <td>Computers, the backbone of modern technology, ...</td>\n",
       "      <td>Generated</td>\n",
       "      <td>92</td>\n",
       "    </tr>\n",
       "    <tr>\n",
       "      <th>4</th>\n",
       "      <td>Chess, a timeless game of strategy and intelle...</td>\n",
       "      <td>Generated</td>\n",
       "      <td>110</td>\n",
       "    </tr>\n",
       "    <tr>\n",
       "      <th>5</th>\n",
       "      <td>Calculus, a cornerstone of mathematical explor...</td>\n",
       "      <td>Generated</td>\n",
       "      <td>128</td>\n",
       "    </tr>\n",
       "    <tr>\n",
       "      <th>6</th>\n",
       "      <td>Electronics, the backbone of modern technology...</td>\n",
       "      <td>Generated</td>\n",
       "      <td>121</td>\n",
       "    </tr>\n",
       "    <tr>\n",
       "      <th>7</th>\n",
       "      <td>Data Science, a multidisciplinary field at the...</td>\n",
       "      <td>Generated</td>\n",
       "      <td>127</td>\n",
       "    </tr>\n",
       "    <tr>\n",
       "      <th>8</th>\n",
       "      <td>Artificial Intelligence (AI), a branch of comp...</td>\n",
       "      <td>Generated</td>\n",
       "      <td>120</td>\n",
       "    </tr>\n",
       "    <tr>\n",
       "      <th>9</th>\n",
       "      <td>Laptops, compact and portable computing device...</td>\n",
       "      <td>Generated</td>\n",
       "      <td>121</td>\n",
       "    </tr>\n",
       "  </tbody>\n",
       "</table>\n",
       "</div>"
      ],
      "text/plain": [
       "                                                text  generated  word_count\n",
       "0  Machine learning, a subset of artificial intel...  Generated          96\n",
       "1  A decision tree, a prominent machine learning ...  Generated         103\n",
       "2  Education, a cornerstone of societal progress,...  Generated          93\n",
       "3  Computers, the backbone of modern technology, ...  Generated          92\n",
       "4  Chess, a timeless game of strategy and intelle...  Generated         110\n",
       "5  Calculus, a cornerstone of mathematical explor...  Generated         128\n",
       "6  Electronics, the backbone of modern technology...  Generated         121\n",
       "7  Data Science, a multidisciplinary field at the...  Generated         127\n",
       "8  Artificial Intelligence (AI), a branch of comp...  Generated         120\n",
       "9  Laptops, compact and portable computing device...  Generated         121"
      ]
     },
     "execution_count": 150,
     "metadata": {},
     "output_type": "execute_result"
    }
   ],
   "source": [
    "exploratory_df['word_count'] = exploratory_df['text'].apply(lambda x: len(str(x).split()))\n",
    "exploratory_df.head(10)"
   ]
  },
  {
   "cell_type": "code",
   "execution_count": 151,
   "id": "c1649bad",
   "metadata": {},
   "outputs": [
    {
     "name": "stderr",
     "output_type": "stream",
     "text": [
      "/var/folders/d0/qll_2dnn6cx9ywdkbdzf11940000gn/T/ipykernel_84430/731116491.py:3: FutureWarning: \n",
      "\n",
      "Passing `palette` without assigning `hue` is deprecated and will be removed in v0.14.0. Assign the `x` variable to `hue` and set `legend=False` for the same effect.\n",
      "\n",
      "  sns.barplot(x='generated', y='word_count', data=avg_word_count, palette='viridis')\n"
     ]
    },
    {
     "data": {
      "image/png": "[encoded data removed]",
      "text/plain": [
       "<Figure size 640x480 with 1 Axes>"
      ]
     },
     "metadata": {},
     "output_type": "display_data"
    }
   ],
   "source": [
    "avg_word_count = exploratory_df.groupby('generated')['word_count'].mean().reset_index()\n",
    "\n",
    "sns.barplot(x='generated', y='word_count', data=avg_word_count, palette='viridis')\n",
    "plt.xlabel('Text Type')\n",
    "plt.ylabel('Average Word Count')\n",
    "plt.title('Average Word Count: Generated vs Human Text')\n",
    "plt.show()\n"
   ]
  },
  {
   "cell_type": "markdown",
   "id": "0695e758",
   "metadata": {},
   "source": [
    "Clean the data"
   ]
  },
  {
   "cell_type": "code",
   "execution_count": 152,
   "id": "83d6e1d1",
   "metadata": {},
   "outputs": [],
   "source": [
    "df[\"text\"]=df[\"text\"].str.lower()\n",
    "df[\"text\"]=df[\"text\"].apply(lambda x: re.sub(r'[^a-zA-Z\\s]', '', x))"
   ]
  },
  {
   "cell_type": "code",
   "execution_count": 153,
   "id": "3921c0e8",
   "metadata": {},
   "outputs": [
    {
     "data": {
      "text/plain": [
       "str"
      ]
     },
     "execution_count": 153,
     "metadata": {},
     "output_type": "execute_result"
    }
   ],
   "source": [
    "type(df[\"text\"][0])"
   ]
  },
  {
   "cell_type": "code",
   "execution_count": 155,
   "id": "75e7cc51",
   "metadata": {},
   "outputs": [
    {
     "name": "stderr",
     "output_type": "stream",
     "text": [
      "[nltk_data] Downloading package punkt to\n",
      "[nltk_data]     /Users/vijayavegesna/nltk_data...\n",
      "[nltk_data]   Package punkt is already up-to-date!\n",
      "[nltk_data] Downloading package stopwords to\n",
      "[nltk_data]     /Users/vijayavegesna/nltk_data...\n",
      "[nltk_data]   Package stopwords is already up-to-date!\n"
     ]
    }
   ],
   "source": [
    "from nltk.corpus import stopwords\n",
    "from nltk.tokenize import word_tokenize\n",
    "nltk.download(\"punkt\")\n",
    "nltk.download(\"stopwords\")\n",
    "stop_words=set(stopwords.words(\"english\"))"
   ]
  },
  {
   "cell_type": "code",
   "execution_count": null,
   "id": "bbe16da4",
   "metadata": {},
   "outputs": [
    {
     "name": "stderr",
     "output_type": "stream",
     "text": [
      "[nltk_data] Downloading package punkt to\n",
      "[nltk_data]     /Users/vijayavegesna/nltk_data...\n",
      "[nltk_data]   Package punkt is already up-to-date!\n",
      "[nltk_data] Downloading package stopwords to\n",
      "[nltk_data]     /Users/vijayavegesna/nltk_data...\n",
      "[nltk_data]   Package stopwords is already up-to-date!\n",
      "[nltk_data] Downloading package wordnet to\n",
      "[nltk_data]     /Users/vijayavegesna/nltk_data...\n",
      "[nltk_data]   Package wordnet is already up-to-date!\n"
     ]
    }
   ],
   "source": [
    "import nltk\n",
    "from nltk.corpus import stopwords\n",
    "from nltk.tokenize import word_tokenize\n",
    "from nltk.stem import WordNetLemmatizer\n",
    "\n",
    "nltk.download(\"punkt\")\n",
    "nltk.download(\"stopwords\")\n",
    "nltk.download(\"wordnet\")\n",
    "\n",
    "stop_words = set(stopwords.words(\"english\"))\n",
    "lemmatizer = WordNetLemmatizer()\n",
    "\n",
    "def clean_and_lemmatize(text):\n",
    "    if not isinstance(text, str):\n",
    "        return \"\"\n",
    "    words = word_tokenize(text)\n",
    "    filtered = [lemmatizer.lemmatize(word.lower()) for word in words if word.lower() not in stop_words]\n",
    "    return \" \".join(filtered)\n",
    "\n",
    "df[\"text\"] = df[\"text\"].apply(clean_and_lemmatize)\n",
    "\n",
    "df[\"text\"] = df.astype(str).apply(lambda row: \" \".join(row.values), axis=1)"
   ]
  },
  {
   "cell_type": "markdown",
   "id": "9077b038",
   "metadata": {},
   "source": [
    "Feature Engineering"
   ]
  },
  {
   "cell_type": "code",
   "execution_count": 162,
   "id": "01e9f921",
   "metadata": {},
   "outputs": [
    {
     "name": "stdout",
     "output_type": "stream",
     "text": [
      "0    machine learning subset artificial intelligenc...\n",
      "1    decision tree prominent machine learning algor...\n",
      "2    education cornerstone societal progress extend...\n",
      "3    computer backbone modern technology revolution...\n",
      "4    chess timeless game strategy intellect transce...\n",
      "5    calculus cornerstone mathematical exploration ...\n",
      "6    electronics backbone modern technology encompa...\n",
      "7    data science multidisciplinary field intersect...\n",
      "8    artificial intelligence ai branch computer sci...\n",
      "9    laptop compact portable computing device becom...\n",
      "Name: text, dtype: object\n",
      "count    1460.000000\n",
      "mean      279.347260\n",
      "std        95.240977\n",
      "min        23.000000\n",
      "25%       222.000000\n",
      "50%       265.000000\n",
      "75%       325.250000\n",
      "max       881.000000\n",
      "Name: text, dtype: float64\n"
     ]
    }
   ],
   "source": [
    "print(df[\"text\"].head(10))\n",
    "print(df[\"text\"].apply(lambda x: len(str(x).split())).describe())"
   ]
  },
  {
   "cell_type": "code",
   "execution_count": 165,
   "id": "ed90de63",
   "metadata": {},
   "outputs": [],
   "source": [
    "def simple_clean(text):\n",
    "    if not isinstance(text, str):\n",
    "        return \"\"\n",
    "    return text\n",
    "\n",
    "df[\"text\"] = df[\"text\"].apply(simple_clean)"
   ]
  },
  {
   "cell_type": "markdown",
   "id": "45fee5c3",
   "metadata": {},
   "source": [
    "Try different types of feature understanding to see which one creates the highest accuracy"
   ]
  },
  {
   "cell_type": "code",
   "execution_count": 186,
   "id": "a8e59ba9",
   "metadata": {},
   "outputs": [
    {
     "name": "stdout",
     "output_type": "stream",
     "text": [
      "Bag of Words (unigram):\n",
      "   aa  aaaeal  aactive  aafetoy  aaid  aake  aaken  aarnish  aaron  aart  ...  \\\n",
      "0   0       0        0        0     0     0      0        0      0     0  ...   \n",
      "1   0       0        0        0     0     0      0        0      0     0  ...   \n",
      "2   0       0        0        0     0     0      0        0      0     0  ...   \n",
      "3   0       0        0        0     0     0      0        0      0     0  ...   \n",
      "4   0       0        0        0     0     0      0        0      0     0  ...   \n",
      "\n",
      "   ypu  yse  yu  yur  zero  zombie  zone  zoom  zooming  zroom  \n",
      "0    0    0   0    0     0       0     0     0        0      0  \n",
      "1    0    0   0    0     0       0     0     0        0      0  \n",
      "2    0    0   0    0     0       0     0     0        0      0  \n",
      "3    0    0   0    0     0       0     0     0        0      0  \n",
      "4    0    0   0    0     0       0     0     0        0      0  \n",
      "\n",
      "[5 rows x 16635 columns]\n",
      "TF-IDF (unigram):\n",
      "    aa  aaaeal  aactive  aafetoy  aaid  aake  aaken  aarnish  aaron  aart  \\\n",
      "0  0.0     0.0      0.0      0.0   0.0   0.0    0.0      0.0    0.0   0.0   \n",
      "1  0.0     0.0      0.0      0.0   0.0   0.0    0.0      0.0    0.0   0.0   \n",
      "2  0.0     0.0      0.0      0.0   0.0   0.0    0.0      0.0    0.0   0.0   \n",
      "3  0.0     0.0      0.0      0.0   0.0   0.0    0.0      0.0    0.0   0.0   \n",
      "4  0.0     0.0      0.0      0.0   0.0   0.0    0.0      0.0    0.0   0.0   \n",
      "\n",
      "   ...  ypu  yse   yu  yur  zero  zombie  zone  zoom  zooming  zroom  \n",
      "0  ...  0.0  0.0  0.0  0.0   0.0     0.0   0.0   0.0      0.0    0.0  \n",
      "1  ...  0.0  0.0  0.0  0.0   0.0     0.0   0.0   0.0      0.0    0.0  \n",
      "2  ...  0.0  0.0  0.0  0.0   0.0     0.0   0.0   0.0      0.0    0.0  \n",
      "3  ...  0.0  0.0  0.0  0.0   0.0     0.0   0.0   0.0      0.0    0.0  \n",
      "4  ...  0.0  0.0  0.0  0.0   0.0     0.0   0.0   0.0      0.0    0.0  \n",
      "\n",
      "[5 rows x 16635 columns]\n",
      "Bag of Words (bigram):\n",
      "   aa betotoer  aa faato  aa hand  aa many  aa oftoen  aa poaaible  aa toeato  \\\n",
      "0            0         0        0        0          0            0          0   \n",
      "1            0         0        0        0          0            0          0   \n",
      "2            0         0        0        0          0            0          0   \n",
      "3            0         0        0        0          0            0          0   \n",
      "4            0         0        0        0          0            0          0   \n",
      "\n",
      "   aa tohe  aa tohey  aa whole  ...  zone one  zone owner  zone reduction  \\\n",
      "0        0         0         0  ...         0           0               0   \n",
      "1        0         0         0  ...         0           0               0   \n",
      "2        0         0         0  ...         0           0               0   \n",
      "3        0         0         0  ...         0           0               0   \n",
      "4        0         0         0  ...         0           0               0   \n",
      "\n",
      "   zone still  zone store  zone street  zone together  zoom pace  zooming pas  \\\n",
      "0           0           0            0              0          0            0   \n",
      "1           0           0            0              0          0            0   \n",
      "2           0           0            0              0          0            0   \n",
      "3           0           0            0              0          0            0   \n",
      "4           0           0            0              0          0            0   \n",
      "\n",
      "   zroom car  \n",
      "0          0  \n",
      "1          0  \n",
      "2          0  \n",
      "3          0  \n",
      "4          0  \n",
      "\n",
      "[5 rows x 172136 columns]\n",
      "TF-IDF (bigram):\n",
      "   aa betotoer  aa faato  aa hand  aa many  aa oftoen  aa poaaible  aa toeato  \\\n",
      "0          0.0       0.0      0.0      0.0        0.0          0.0        0.0   \n",
      "1          0.0       0.0      0.0      0.0        0.0          0.0        0.0   \n",
      "2          0.0       0.0      0.0      0.0        0.0          0.0        0.0   \n",
      "3          0.0       0.0      0.0      0.0        0.0          0.0        0.0   \n",
      "4          0.0       0.0      0.0      0.0        0.0          0.0        0.0   \n",
      "\n",
      "   aa tohe  aa tohey  aa whole  ...  zone one  zone owner  zone reduction  \\\n",
      "0      0.0       0.0       0.0  ...       0.0         0.0             0.0   \n",
      "1      0.0       0.0       0.0  ...       0.0         0.0             0.0   \n",
      "2      0.0       0.0       0.0  ...       0.0         0.0             0.0   \n",
      "3      0.0       0.0       0.0  ...       0.0         0.0             0.0   \n",
      "4      0.0       0.0       0.0  ...       0.0         0.0             0.0   \n",
      "\n",
      "   zone still  zone store  zone street  zone together  zoom pace  zooming pas  \\\n",
      "0         0.0         0.0          0.0            0.0        0.0          0.0   \n",
      "1         0.0         0.0          0.0            0.0        0.0          0.0   \n",
      "2         0.0         0.0          0.0            0.0        0.0          0.0   \n",
      "3         0.0         0.0          0.0            0.0        0.0          0.0   \n",
      "4         0.0         0.0          0.0            0.0        0.0          0.0   \n",
      "\n",
      "   zroom car  \n",
      "0        0.0  \n",
      "1        0.0  \n",
      "2        0.0  \n",
      "3        0.0  \n",
      "4        0.0  \n",
      "\n",
      "[5 rows x 172136 columns]\n"
     ]
    }
   ],
   "source": [
    "from sklearn.feature_extraction.text import CountVectorizer, TfidfVectorizer\n",
    "\n",
    "bow_vectorizer = CountVectorizer()\n",
    "bow_features = bow_vectorizer.fit_transform(df[\"text\"])\n",
    "\n",
    "bigram_vectorizer = CountVectorizer(ngram_range=(2,2))\n",
    "bigram_features = bigram_vectorizer.fit_transform(df[\"text\"])\n",
    "\n",
    "tfidf_vectorizer = TfidfVectorizer()\n",
    "tfidf_features = tfidf_vectorizer.fit_transform(df[\"text\"])\n",
    "\n",
    "tfidf_bigram_vectorizer = TfidfVectorizer(ngram_range=(2,2))\n",
    "tfidf_bigram_features = tfidf_bigram_vectorizer.fit_transform(df[\"text\"])\n",
    "\n",
    "bow_df = pd.DataFrame(bow_features.toarray(), columns=bow_vectorizer.get_feature_names_out())\n",
    "tfidf_df = pd.DataFrame(tfidf_features.toarray(), columns=tfidf_vectorizer.get_feature_names_out())\n",
    "bigram_df = pd.DataFrame(bigram_features.toarray(), columns=bigram_vectorizer.get_feature_names_out())\n",
    "tfidf_bigram_df = pd.DataFrame(tfidf_bigram_features.toarray(), columns=tfidf_bigram_vectorizer.get_feature_names_out())\n",
    "\n",
    "print(\"Bag of Words (unigram):\")\n",
    "print(bow_df.head())\n",
    "print(\"TF-IDF (unigram):\")\n",
    "print(tfidf_df.head())\n",
    "print(\"Bag of Words (bigram):\")\n",
    "print(bigram_df.head())\n",
    "print(\"TF-IDF (bigram):\")\n",
    "print(tfidf_bigram_df.head())"
   ]
  },
  {
   "cell_type": "markdown",
   "id": "ef529356",
   "metadata": {},
   "source": [
    "Different models for tfidf features"
   ]
  },
  {
   "cell_type": "code",
   "execution_count": 179,
   "id": "a16b61a8",
   "metadata": {},
   "outputs": [
    {
     "name": "stdout",
     "output_type": "stream",
     "text": [
      "Accuracy for Logistics Regression for TFIDF feature engineering: 0.952054794520548\n",
      "              precision    recall  f1-score   support\n",
      "\n",
      "           0       0.95      1.00      0.97       272\n",
      "           1       1.00      0.30      0.46        20\n",
      "\n",
      "    accuracy                           0.95       292\n",
      "   macro avg       0.98      0.65      0.72       292\n",
      "weighted avg       0.95      0.95      0.94       292\n",
      "\n"
     ]
    }
   ],
   "source": [
    "from sklearn.model_selection import train_test_split\n",
    "from sklearn.linear_model import LogisticRegression\n",
    "from sklearn.metrics import classification_report, accuracy_score\n",
    "\n",
    "X_tfidf = tfidf_features  \n",
    "y_tfidf = df[\"generated\"] \n",
    "\n",
    "X_train_y_tfidf, X_test_y_tfidf, y_train_y_tfidf, y_test_y_tfidf = train_test_split(X_tfidf, y_tfidf, test_size=0.2, random_state=42)\n",
    "\n",
    "lr = LogisticRegression(max_iter=1000)\n",
    "lr.fit(X_train_y_tfidf, y_train_y_tfidf)\n",
    "\n",
    "y_pred_tfidf = lr.predict(X_test_y_tfidf)\n",
    "print(\"Accuracy for Logistics Regression for TFIDF feature engineering:\", accuracy_score(y_test_y_tfidf, y_pred_tfidf))\n",
    "print(classification_report(y_test_y_tfidf, y_pred_tfidf))"
   ]
  },
  {
   "cell_type": "code",
   "execution_count": 184,
   "id": "b9739956",
   "metadata": {},
   "outputs": [
    {
     "name": "stdout",
     "output_type": "stream",
     "text": [
      "Accuracy for SVM for TFIDF feature engineering: 0.9965753424657534\n",
      "              precision    recall  f1-score   support\n",
      "\n",
      "           0       1.00      1.00      1.00       272\n",
      "           1       1.00      0.95      0.97        20\n",
      "\n",
      "    accuracy                           1.00       292\n",
      "   macro avg       1.00      0.97      0.99       292\n",
      "weighted avg       1.00      1.00      1.00       292\n",
      "\n"
     ]
    },
    {
     "name": "stderr",
     "output_type": "stream",
     "text": [
      "/Users/vijayavegesna/Library/Python/3.8/lib/python/site-packages/sklearn/svm/_classes.py:32: FutureWarning: The default value of `dual` will change from `True` to `'auto'` in 1.5. Set the value of `dual` explicitly to suppress the warning.\n",
      "  warnings.warn(\n"
     ]
    }
   ],
   "source": [
    "from sklearn.model_selection import train_test_split\n",
    "from sklearn.svm import LinearSVC\n",
    "from sklearn.metrics import classification_report, accuracy_score\n",
    "\n",
    "svm_tfidf = LinearSVC(max_iter=1000)\n",
    "svm_tfidf.fit(X_train_y_tfidf, y_train_y_tfidf)\n",
    "\n",
    "y_pred_svm_tfidf = svm_tfidf.predict(X_test_y_tfidf)\n",
    "print(\"Accuracy for SVM for TFIDF feature engineering:\", accuracy_score(y_test_y_tfidf, y_pred_svm_tfidf))\n",
    "print(classification_report(y_test_y_tfidf, y_pred_svm_tfidf))"
   ]
  },
  {
   "cell_type": "markdown",
   "id": "3b962b6b",
   "metadata": {},
   "source": [
    "Different models for bigram"
   ]
  },
  {
   "cell_type": "code",
   "execution_count": null,
   "id": "0c8eaa13",
   "metadata": {},
   "outputs": [
    {
     "name": "stdout",
     "output_type": "stream",
     "text": [
      "Accuracy for Logistics Regression for TFIDF feature engineering: 0.9931506849315068\n",
      "              precision    recall  f1-score   support\n",
      "\n",
      "           0       1.00      1.00      1.00       272\n",
      "           1       0.95      0.95      0.95        20\n",
      "\n",
      "    accuracy                           0.99       292\n",
      "   macro avg       0.97      0.97      0.97       292\n",
      "weighted avg       0.99      0.99      0.99       292\n",
      "\n"
     ]
    }
   ],
   "source": [
    "X_bigram = bigram_features  \n",
    "y_bigram = df[\"generated\"] \n",
    "\n",
    "X_train_y_bigram, X_test_y_bigram, y_train_y_bigram, y_test_y_bigram = train_test_split(X_bigram, y_bigram, test_size=0.2, random_state=42)\n",
    "\n",
    "lr = LogisticRegression(max_iter=1000)\n",
    "lr.fit(X_train_y_bigram, y_train_y_bigram)\n",
    "\n",
    "y_pred_bigram = lr.predict(X_test_y_bigram)\n",
    "print(\"Accuracy for Logistics Regression for Bigram feature engineering:\", accuracy_score(y_test_y_bigram, y_pred_bigram))\n",
    "print(classification_report(y_test_y_bigram, y_pred_bigram))"
   ]
  },
  {
   "cell_type": "code",
   "execution_count": null,
   "id": "6d1faabc",
   "metadata": {},
   "outputs": [
    {
     "name": "stdout",
     "output_type": "stream",
     "text": [
      "Accuracy for SVM for TFIDF feature engineering: 0.9931506849315068\n",
      "              precision    recall  f1-score   support\n",
      "\n",
      "           0       1.00      1.00      1.00       272\n",
      "           1       0.95      0.95      0.95        20\n",
      "\n",
      "    accuracy                           0.99       292\n",
      "   macro avg       0.97      0.97      0.97       292\n",
      "weighted avg       0.99      0.99      0.99       292\n",
      "\n"
     ]
    },
    {
     "name": "stderr",
     "output_type": "stream",
     "text": [
      "/Users/vijayavegesna/Library/Python/3.8/lib/python/site-packages/sklearn/svm/_classes.py:32: FutureWarning: The default value of `dual` will change from `True` to `'auto'` in 1.5. Set the value of `dual` explicitly to suppress the warning.\n",
      "  warnings.warn(\n"
     ]
    }
   ],
   "source": [
    "svm_bigram = LinearSVC(max_iter=1000)\n",
    "svm_bigram.fit(X_train_y_bigram, y_train_y_bigram)\n",
    "\n",
    "y_pred_svm_bigram = svm_bigram.predict(X_test_y_bigram)\n",
    "print(\"Accuracy for SVM for Bigram feature engineering:\", accuracy_score(y_test_y_bigram, y_pred_svm_bigram))\n",
    "print(classification_report(y_test_y_bigram, y_pred_svm_bigram))"
   ]
  },
  {
   "cell_type": "markdown",
   "id": "db315752",
   "metadata": {},
   "source": [
    "Different models for Bag of Words"
   ]
  },
  {
   "cell_type": "code",
   "execution_count": null,
   "id": "1c9a3988",
   "metadata": {},
   "outputs": [
    {
     "name": "stdout",
     "output_type": "stream",
     "text": [
      "Accuracy for Logistics Regression for TFIDF feature engineering: 0.9965753424657534\n",
      "              precision    recall  f1-score   support\n",
      "\n",
      "           0       1.00      1.00      1.00       272\n",
      "           1       1.00      0.95      0.97        20\n",
      "\n",
      "    accuracy                           1.00       292\n",
      "   macro avg       1.00      0.97      0.99       292\n",
      "weighted avg       1.00      1.00      1.00       292\n",
      "\n"
     ]
    }
   ],
   "source": [
    "X_bow_features = bow_features  \n",
    "y_bow_features = df[\"generated\"] \n",
    "\n",
    "X_train_y_bow_features, X_test_y_bow_features, y_train_y_bow_features, y_test_y_bow_features = train_test_split(X_bow_features, y_bow_features, test_size=0.2, random_state=42)\n",
    "\n",
    "lr = LogisticRegression(max_iter=1000)\n",
    "lr.fit(X_train_y_bow_features, y_train_y_bow_features)\n",
    "\n",
    "y_pred_bow_features = lr.predict(X_test_y_bow_features)\n",
    "print(\"Accuracy for Logistics Regression for Bag of Words feature engineering:\", accuracy_score(y_test_y_bow_features, y_pred_bow_features))\n",
    "print(classification_report(y_test_y_bow_features, y_pred_bow_features))"
   ]
  },
  {
   "cell_type": "code",
   "execution_count": 196,
   "id": "a7483f0a",
   "metadata": {},
   "outputs": [
    {
     "name": "stdout",
     "output_type": "stream",
     "text": [
      "Accuracy for SVM for Bag of Words feature engineering: 0.9965753424657534\n",
      "              precision    recall  f1-score   support\n",
      "\n",
      "           0       1.00      1.00      1.00       272\n",
      "           1       1.00      0.95      0.97        20\n",
      "\n",
      "    accuracy                           1.00       292\n",
      "   macro avg       1.00      0.97      0.99       292\n",
      "weighted avg       1.00      1.00      1.00       292\n",
      "\n"
     ]
    },
    {
     "name": "stderr",
     "output_type": "stream",
     "text": [
      "/Users/vijayavegesna/Library/Python/3.8/lib/python/site-packages/sklearn/svm/_classes.py:32: FutureWarning: The default value of `dual` will change from `True` to `'auto'` in 1.5. Set the value of `dual` explicitly to suppress the warning.\n",
      "  warnings.warn(\n"
     ]
    }
   ],
   "source": [
    "svm_bow = LinearSVC(max_iter=1000)\n",
    "svm_bow.fit(X_train_y_bow_features, y_train_y_bow_features)\n",
    "\n",
    "y_pred_svm_bow = svm_bow.predict(X_test_y_bow_features)\n",
    "print(\"Accuracy for SVM for Bag of Words feature engineering:\", accuracy_score(y_test_y_bow_features, y_pred_svm_bow))\n",
    "print(classification_report(y_test_y_bow_features, y_pred_svm_bow))"
   ]
  },
  {
   "cell_type": "markdown",
   "id": "af0923bb",
   "metadata": {},
   "source": [
    "Different models for tf-idf bigram"
   ]
  },
  {
   "cell_type": "code",
   "execution_count": null,
   "id": "f3967a83",
   "metadata": {},
   "outputs": [
    {
     "name": "stdout",
     "output_type": "stream",
     "text": [
      "Accuracy for Logistics Regression for TFIDF feature engineering: 0.9315068493150684\n",
      "              precision    recall  f1-score   support\n",
      "\n",
      "           0       0.93      1.00      0.96       272\n",
      "           1       0.00      0.00      0.00        20\n",
      "\n",
      "    accuracy                           0.93       292\n",
      "   macro avg       0.47      0.50      0.48       292\n",
      "weighted avg       0.87      0.93      0.90       292\n",
      "\n"
     ]
    },
    {
     "name": "stderr",
     "output_type": "stream",
     "text": [
      "/Users/vijayavegesna/Library/Python/3.8/lib/python/site-packages/sklearn/metrics/_classification.py:1471: UndefinedMetricWarning: Precision and F-score are ill-defined and being set to 0.0 in labels with no predicted samples. Use `zero_division` parameter to control this behavior.\n",
      "  _warn_prf(average, modifier, msg_start, len(result))\n",
      "/Users/vijayavegesna/Library/Python/3.8/lib/python/site-packages/sklearn/metrics/_classification.py:1471: UndefinedMetricWarning: Precision and F-score are ill-defined and being set to 0.0 in labels with no predicted samples. Use `zero_division` parameter to control this behavior.\n",
      "  _warn_prf(average, modifier, msg_start, len(result))\n",
      "/Users/vijayavegesna/Library/Python/3.8/lib/python/site-packages/sklearn/metrics/_classification.py:1471: UndefinedMetricWarning: Precision and F-score are ill-defined and being set to 0.0 in labels with no predicted samples. Use `zero_division` parameter to control this behavior.\n",
      "  _warn_prf(average, modifier, msg_start, len(result))\n"
     ]
    }
   ],
   "source": [
    "\n",
    "X_tfidf_bigram_df = tfidf_bigram_df  \n",
    "y_tfidf_bigram_df = df[\"generated\"] \n",
    "\n",
    "X_train_y_tfidf_bigram_df, X_test_y_tfidf_bigram_df, y_train_y_tfidf_bigram_df, y_test_y_tfidf_bigram_df = train_test_split(X_tfidf_bigram_df, y_tfidf_bigram_df, test_size=0.2, random_state=42)\n",
    "\n",
    "lr = LogisticRegression(max_iter=1000)\n",
    "lr.fit(X_train_y_tfidf_bigram_df, y_train_y_tfidf_bigram_df)\n",
    "\n",
    "y_pred_tfidf_bigram_df = lr.predict(X_test_y_tfidf_bigram_df)\n",
    "print(\"Accuracy for Logistics Regression for TFIDF-bigram feature engineering:\", accuracy_score(y_test_y_tfidf_bigram_df, y_pred_tfidf_bigram_df))\n",
    "print(classification_report(y_test_y_tfidf_bigram_df, y_pred_tfidf_bigram_df))"
   ]
  },
  {
   "cell_type": "code",
   "execution_count": 197,
   "id": "1ae4675d",
   "metadata": {},
   "outputs": [
    {
     "name": "stdout",
     "output_type": "stream",
     "text": [
      "SVM Accuracy (TF-IDF Bigram): 0.9315068493150684\n",
      "              precision    recall  f1-score   support\n",
      "\n",
      "           0       0.93      1.00      0.96       272\n",
      "           1       0.00      0.00      0.00        20\n",
      "\n",
      "    accuracy                           0.93       292\n",
      "   macro avg       0.47      0.50      0.48       292\n",
      "weighted avg       0.87      0.93      0.90       292\n",
      "\n"
     ]
    },
    {
     "name": "stderr",
     "output_type": "stream",
     "text": [
      "/Users/vijayavegesna/Library/Python/3.8/lib/python/site-packages/sklearn/svm/_classes.py:32: FutureWarning: The default value of `dual` will change from `True` to `'auto'` in 1.5. Set the value of `dual` explicitly to suppress the warning.\n",
      "  warnings.warn(\n",
      "/Users/vijayavegesna/Library/Python/3.8/lib/python/site-packages/sklearn/metrics/_classification.py:1471: UndefinedMetricWarning: Precision and F-score are ill-defined and being set to 0.0 in labels with no predicted samples. Use `zero_division` parameter to control this behavior.\n",
      "  _warn_prf(average, modifier, msg_start, len(result))\n",
      "/Users/vijayavegesna/Library/Python/3.8/lib/python/site-packages/sklearn/metrics/_classification.py:1471: UndefinedMetricWarning: Precision and F-score are ill-defined and being set to 0.0 in labels with no predicted samples. Use `zero_division` parameter to control this behavior.\n",
      "  _warn_prf(average, modifier, msg_start, len(result))\n",
      "/Users/vijayavegesna/Library/Python/3.8/lib/python/site-packages/sklearn/metrics/_classification.py:1471: UndefinedMetricWarning: Precision and F-score are ill-defined and being set to 0.0 in labels with no predicted samples. Use `zero_division` parameter to control this behavior.\n",
      "  _warn_prf(average, modifier, msg_start, len(result))\n"
     ]
    }
   ],
   "source": [
    "X_tfidf_bigram = tfidf_bigram_features\n",
    "X_train_tfidf_bigram, X_test_tfidf_bigram, y_train_tfidf_bigram, y_test_tfidf_bigram = train_test_split(X_tfidf_bigram, y, test_size=0.2, random_state=42)\n",
    "svm_tfidf_bigram = LinearSVC(max_iter=1000)\n",
    "svm_tfidf_bigram.fit(X_train_tfidf_bigram, y_train_tfidf_bigram)\n",
    "y_pred_tfidf_bigram = svm_tfidf_bigram.predict(X_test_tfidf_bigram)\n",
    "print(\"SVM Accuracy (TF-IDF Bigram):\", accuracy_score(y_test_tfidf_bigram, y_pred_tfidf_bigram))\n",
    "print(classification_report(y_test_tfidf_bigram, y_pred_tfidf_bigram))"
   ]
  }
 ],
 "metadata": {
  "kernelspec": {
   "display_name": "Python 3",
   "language": "python",
   "name": "python3"
  },
  "language_info": {
   "codemirror_mode": {
    "name": "ipython",
    "version": 3
   },
   "file_extension": ".py",
   "mimetype": "text/x-python",
   "name": "python",
   "nbconvert_exporter": "python",
   "pygments_lexer": "ipython3",
   "version": "3.8.9"
  }
 },
 "nbformat": 4,
 "nbformat_minor": 5
}
